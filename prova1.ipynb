{
 "cells": [
  {
   "cell_type": "markdown",
   "id": "efc1a342",
   "metadata": {},
   "source": [
    "# Tasca 1 Jupyter Notebook \n",
    "## Exercici 1\n",
    "### Instal·lar Jupyter notebook amb pyhton3"
   ]
  },
  {
   "cell_type": "code",
   "execution_count": 25,
   "id": "df8b39ec",
   "metadata": {},
   "outputs": [
    {
     "name": "stdout",
     "output_type": "stream",
     "text": [
      "hello world\n"
     ]
    }
   ],
   "source": [
    "print(\"hello world\")"
   ]
  },
  {
   "cell_type": "markdown",
   "id": "3fec786d",
   "metadata": {},
   "source": [
    "## Exercici 2\n",
    "### Calculs senzills i familiarització amb markdown"
   ]
  },
  {
   "cell_type": "code",
   "execution_count": 26,
   "id": "712b6e77",
   "metadata": {},
   "outputs": [
    {
     "name": "stdout",
     "output_type": "stream",
     "text": [
      "a + b = 13, 13 / a = 1.3, a = 10, b = 3\n"
     ]
    }
   ],
   "source": [
    "a = 10\n",
    "b = 3\n",
    "c = a + b\n",
    "d = c / a\n",
    "print(f\"a + b = {c}, {c} / a = {d}, a = {a}, b = {b}\")"
   ]
  },
  {
   "cell_type": "markdown",
   "id": "e8e31bd3",
   "metadata": {},
   "source": [
    "## Exercici 3\n",
    "### Titols, llistes, imatges, estil de lletra i url repositori GitHub"
   ]
  },
  {
   "cell_type": "markdown",
   "id": "da325a65",
   "metadata": {},
   "source": [
    "#### Titol del apartat titols\n",
    "##### Exemple de titol de 5 nivell\n",
    "###### Exemple de titol de nivell 6"
   ]
  },
  {
   "cell_type": "markdown",
   "id": "af0acaf7",
   "metadata": {},
   "source": [
    "#### Apartat LListes\n",
    "##### Llista Desordenada\n",
    "* Apartat Principal\n",
    "* Segon apartat Principal\n",
    "\n",
    "##### Llista Ordenada\n",
    "1. Num 1\n",
    "2. Num 2"
   ]
  },
  {
   "cell_type": "markdown",
   "id": "5f2028a4",
   "metadata": {},
   "source": [
    "#### Estil Lletra\n",
    "+ *Italic Entre Asteriscos*\n",
    "+ _Italic entre barres baixes_\n",
    "\n",
    "+ __Doble barres baixes es negreta__\n",
    "+ **Doble asteriscs es negreta també**\n",
    "\n",
    "+ __Negreta*Negreta e Italic*Negreta__\n",
    "+ *Italic**Negreta e Italic**Italic*\n",
    "+ _Italic**Negreta e Italic**Italic_\n",
    "+ **Negreta*Negreta e Italic*Negreta**\n",
    "\n",
    "+ ~~Ratllat entre simbols d'aproximar~~\n",
    "+ ***Negreta e Italic en triple asterisc***"
   ]
  },
  {
   "cell_type": "markdown",
   "id": "dd931d32",
   "metadata": {},
   "source": [
    "#### Imatge i URL github\n",
    "##### Imatge\n",
    "![alt text](Imaginary_Tree.png)\n",
    "##### Url\n",
    "https://github.com/Nat1221211/Programacio-Segon.git"
   ]
  }
 ],
 "metadata": {
  "kernelspec": {
   "display_name": "Python 3",
   "language": "python",
   "name": "python3"
  },
  "language_info": {
   "codemirror_mode": {
    "name": "ipython",
    "version": 3
   },
   "file_extension": ".py",
   "mimetype": "text/x-python",
   "name": "python",
   "nbconvert_exporter": "python",
   "pygments_lexer": "ipython3",
   "version": "3.12.6"
  }
 },
 "nbformat": 4,
 "nbformat_minor": 5
}
