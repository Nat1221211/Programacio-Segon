{
 "cells": [
  {
   "cell_type": "markdown",
   "id": "0b673b15",
   "metadata": {},
   "source": [
    "# Tasca 1\n",
    "##### Bernat Puig Casals\n",
    "##### 29/09/2025\n",
    "### Llistes i Diccionaris"
   ]
  },
  {
   "cell_type": "markdown",
   "id": "305c7a71",
   "metadata": {},
   "source": [
    "##### Exercici 7 - Posa Exemples d'objectes mutables e Inmutables.\n",
    "###### Donem un parell d'exemples d'un objecte mutable i un inmutable."
   ]
  },
  {
   "cell_type": "code",
   "execution_count": 13,
   "id": "6828e51d",
   "metadata": {},
   "outputs": [
    {
     "name": "stdout",
     "output_type": "stream",
     "text": [
      "\n",
      " ! Mutables e Inmutables ! \n",
      "\n",
      "Els objectes mutables poden ser alterats sense que el programa els recrei, en canvi els\n",
      "inmutables son recreats al canviar un dels seus valors, aixo es pot mostrar amb la funcio id() \n",
      "\n",
      "[17, 5, 17, 3, 18, 9, 14, 2, 10, 7, 18, 20, 15, 17, 7]\n",
      "2983706284224\n",
      "Ara canviem algun dels valors:\n",
      "I per tant ara la 4 posicio de la llista ha de ser un 100...\n",
      "[17, 5, 17, 100, 18, 9, 14, 2, 10, 7, 18, 20, 15, 17, 7]\n",
      "2983706284224\n",
      "En canvi els objectes inmutables com les tuples o els floats, integers son canviats d'id.\n",
      "Tupla: (1, 10, 30), id: 2983705846016, Float:  5.543, id: 2983701123728, Int:  7, id: 140715194387064\n",
      "Tupla: (3, 4, 5), id: 2983706241664, Float:  7.45, id: 2983701123856, Int:  5, id: 140715194387000\n"
     ]
    }
   ],
   "source": [
    "import random\n",
    "\n",
    "print(\"\\n ! Mutables e Inmutables ! \\n\")\n",
    "print(\"Els objectes mutables poden ser alterats sense que el programa els recrei, en canvi els\")\n",
    "print(\"inmutables son recreats al canviar un dels seus valors, aixo es pot mostrar amb la funcio id() \\n\")\n",
    "\n",
    "llista = [random.randrange(1,21),random.randrange(1,21),random.randrange(1,21),random.randrange(1,21),random.randrange(1,21),\n",
    "          random.randrange(1,21),random.randrange(1,21),random.randrange(1,21),random.randrange(1,21),random.randrange(1,21),\n",
    "          random.randrange(1,21),random.randrange(1,21),random.randrange(1,21),random.randrange(1,21),random.randrange(1,21),]\n",
    "\n",
    "print(llista)\n",
    "print(id(llista))\n",
    "\n",
    "print(\"Ara canviem algun dels valors:\")\n",
    "llista[3] = 100\n",
    "\n",
    "print(\"I per tant ara la 4 posicio de la llista ha de ser un 100...\")\n",
    "print(llista)\n",
    "print(id(llista))\n",
    "\n",
    "print(\"En canvi els objectes inmutables com les tuples o els floats, integers son canviats d'id.\")\n",
    "tupla = (1,10,30)\n",
    "f = 5.543\n",
    "i = 7\n",
    "print(f\"Tupla: {tupla}, id: {id(tupla)}, Float:  {f}, id: {id(f)}, Int:  {i}, id: {id(i)}\")\n",
    "tupla = (3,4,5)\n",
    "f = 7.45\n",
    "i = 5\n",
    "print(f\"Tupla: {tupla}, id: {id(tupla)}, Float:  {f}, id: {id(f)}, Int:  {i}, id: {id(i)}\")\n",
    "\n"
   ]
  }
 ],
 "metadata": {
  "kernelspec": {
   "display_name": "Python 3",
   "language": "python",
   "name": "python3"
  },
  "language_info": {
   "codemirror_mode": {
    "name": "ipython",
    "version": 3
   },
   "file_extension": ".py",
   "mimetype": "text/x-python",
   "name": "python",
   "nbconvert_exporter": "python",
   "pygments_lexer": "ipython3",
   "version": "3.12.6"
  }
 },
 "nbformat": 4,
 "nbformat_minor": 5
}
