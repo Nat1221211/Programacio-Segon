{
 "cells": [
  {
   "cell_type": "markdown",
   "id": "0b673b15",
   "metadata": {},
   "source": [
    "# Tasca 1\n",
    "##### Bernat Puig Casals\n",
    "##### 29/09/2025\n",
    "### Llistes i Diccionaris"
   ]
  },
  {
   "cell_type": "markdown",
   "id": "305c7a71",
   "metadata": {},
   "source": [
    "##### Exercici 9 - Paraules Prohibides\n",
    "###### Demanem un text i comprobem quantes vegades apareix la una paraula indicada."
   ]
  },
  {
   "cell_type": "code",
   "execution_count": 18,
   "id": "6828e51d",
   "metadata": {},
   "outputs": [
    {
     "name": "stdout",
     "output_type": "stream",
     "text": [
      "\n",
      " ! Mitjana de notes ! \n",
      "\n",
      "\n",
      "La paraula prohibida: bernat, ha apregut un total de 1 en el seguent text: \n",
      "\n",
      "Hola hem dic bernat, i tu, com et dius.\n",
      "['Hola', 'hem', 'dic', 'bernat', 'i', 'tu', 'com', 'et', 'dius']\n"
     ]
    }
   ],
   "source": [
    "print(\"\\n ! Mitjana de notes ! \\n\")\n",
    "\n",
    "text = input(\"Digues un text: \\n\")\n",
    "\n",
    "correcte = False\n",
    "while correcte == False:\n",
    "    try:\n",
    "        prohibida = input(\"Digues una paraula: \")\n",
    "        correcte = True\n",
    "    except ValueError:\n",
    "        correcte = False\n",
    "        print(\"S'ha introduit una caracter invalid !\")\n",
    "\n",
    "total = 0\n",
    "llistadeparaules = []\n",
    "\n",
    "paraula = \"\"\n",
    "if text[len(text) - 1] != \".\":\n",
    "    text += \".\"\n",
    "for j in text:\n",
    "    if j in [\",\", \" \", \".\"]:\n",
    "        if paraula != \"\":\n",
    "            llistadeparaules += [paraula]\n",
    "        paraula = \"\"\n",
    "    else:\n",
    "        paraula += j\n",
    "\n",
    "for i in llistadeparaules:\n",
    "    if i == prohibida:\n",
    "        total += 1\n",
    "print(\"\")\n",
    "print(f\"La paraula prohibida: {prohibida}, ha apregut un total de {total} en el seguent text: \\n\")\n",
    "print(text)\n",
    "print(llistadeparaules)"
   ]
  }
 ],
 "metadata": {
  "kernelspec": {
   "display_name": "Python 3",
   "language": "python",
   "name": "python3"
  },
  "language_info": {
   "codemirror_mode": {
    "name": "ipython",
    "version": 3
   },
   "file_extension": ".py",
   "mimetype": "text/x-python",
   "name": "python",
   "nbconvert_exporter": "python",
   "pygments_lexer": "ipython3",
   "version": "3.12.6"
  }
 },
 "nbformat": 4,
 "nbformat_minor": 5
}
