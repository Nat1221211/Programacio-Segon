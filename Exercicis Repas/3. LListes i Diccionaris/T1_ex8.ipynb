{
 "cells": [
  {
   "cell_type": "markdown",
   "id": "0b673b15",
   "metadata": {},
   "source": [
    "# Tasca 1\n",
    "##### Bernat Puig Casals\n",
    "##### 29/09/2025\n",
    "### Llistes i Diccionaris"
   ]
  },
  {
   "cell_type": "markdown",
   "id": "305c7a71",
   "metadata": {},
   "source": [
    "##### Exercici 8 - Mitjana de notes\n",
    "###### Demanem 5 notes i les guardem en una llista, calculem la mitja."
   ]
  },
  {
   "cell_type": "code",
   "execution_count": 2,
   "id": "6828e51d",
   "metadata": {},
   "outputs": [
    {
     "name": "stdout",
     "output_type": "stream",
     "text": [
      "\n",
      " ! Mitjana de notes ! \n",
      "\n",
      "Llista de notes: [5.45, 6.55, 7.0, 8.56, 4.0].\n",
      "Mitjana: 6.312\n"
     ]
    }
   ],
   "source": [
    "print(\"\\n ! Mitjana de notes ! \\n\")\n",
    "\n",
    "notes = []\n",
    "\n",
    "for i in range(5):\n",
    "    correcte = False\n",
    "    while correcte == False:\n",
    "        try:\n",
    "            valor = float(input(\"Digues una nota: \"))\n",
    "            correcte = True\n",
    "            if valor < 0 or valor > 10:\n",
    "                correcte = False\n",
    "        except ValueError:\n",
    "            correcte = False\n",
    "            print(\"S'ha introduit una nota invalida !\")\n",
    "    notes+=[valor]\n",
    "\n",
    "print(f\"Llista de notes: {notes}.\")\n",
    "mitja = 0\n",
    "for i in notes:\n",
    "    mitja += i\n",
    "mitja /= len(notes) \n",
    "print(f\"Mitjana: {mitja}\")"
   ]
  }
 ],
 "metadata": {
  "kernelspec": {
   "display_name": "Python 3",
   "language": "python",
   "name": "python3"
  },
  "language_info": {
   "codemirror_mode": {
    "name": "ipython",
    "version": 3
   },
   "file_extension": ".py",
   "mimetype": "text/x-python",
   "name": "python",
   "nbconvert_exporter": "python",
   "pygments_lexer": "ipython3",
   "version": "3.12.6"
  }
 },
 "nbformat": 4,
 "nbformat_minor": 5
}
