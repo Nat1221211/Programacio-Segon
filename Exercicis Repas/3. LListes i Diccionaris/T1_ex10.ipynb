{
 "cells": [
  {
   "cell_type": "markdown",
   "id": "0b673b15",
   "metadata": {},
   "source": [
    "# Tasca 1\n",
    "##### Bernat Puig Casals\n",
    "##### 29/09/2025\n",
    "### Llistes i Diccionaris"
   ]
  },
  {
   "cell_type": "markdown",
   "id": "305c7a71",
   "metadata": {},
   "source": [
    "##### Exercici 10 - Agenda Telefonica\n",
    "###### Creem un diccionari amb numeros de telefon i noms, i amb la capacitat de cercar."
   ]
  },
  {
   "cell_type": "code",
   "execution_count": null,
   "id": "6828e51d",
   "metadata": {},
   "outputs": [
    {
     "name": "stdout",
     "output_type": "stream",
     "text": [
      "\n",
      " ! Agenda Telefonica ! \n",
      "\n",
      "Menu\n",
      "1 -> Agregar Contactes\n",
      "2 -> Cercar Contactes\n",
      "3 -> Mostrar Claus dels Contactes\n",
      "4 -> Sortir de l'agenda de contactes\n",
      "Ui\n",
      "Ui\n",
      "Bernat\n",
      "Ui\n",
      "Bernat\n",
      "D\n",
      "Nom: D, Telefon: 567891234\n",
      "Nom: Ui, Telefon: 123456789\n",
      "Nom: Bernat, Telefon: 987654321\n",
      "Has sortit de l'agenda, programa Finalitzat...\n"
     ]
    }
   ],
   "source": [
    "import os\n",
    "\n",
    "print(\"\\n ! Agenda Telefonica ! \\n\")\n",
    "\n",
    "print(\"Menu\")\n",
    "print(\"1 -> Agregar Contactes\")\n",
    "print(\"2 -> Cercar Contactes\")\n",
    "print(\"3 -> Mostrar Claus dels Contactes\")\n",
    "print(\"4 -> Sortir de l'agenda de contactes\")\n",
    "\n",
    "contactes = {}\n",
    "\n",
    "num = 1\n",
    "while num in [1, 2, 3, 4]:\n",
    "    num = 0\n",
    "    while num not in [1, 2, 3, 4]:\n",
    "        os.system(\"cls\")\n",
    "        try:\n",
    "            num = int(input(\"Digues que vols fer, selecciona el numero corresponent: \"))\n",
    "        except ValueError:\n",
    "            print(\"El caracter introduit no es un numero.\")\n",
    "    \n",
    "    if num == 1:\n",
    "        try:\n",
    "            nom = input(\"Digues el nom del contacte: \")\n",
    "        except ValueError:\n",
    "            print(\"El nom no es possible...\")\n",
    "        tlf = 0\n",
    "        while tlf < 100000000 or tlf > 999999999:\n",
    "            try:\n",
    "                tlf = int(input(\"Digues el numero de telefon a introduir: \\n\"))\n",
    "                if tlf < 100000000 or tlf > 999999999:\n",
    "                    print(\"El numero de telefon es invalid...\")\n",
    "            except ValueError:\n",
    "                print(\"El valor introduit es invalid...\")\n",
    "        contactes[nom] = tlf\n",
    "    elif num == 2:\n",
    "        nom = \"\"\n",
    "        while nom not in contactes.keys():\n",
    "            try:\n",
    "                nom = input(\"Digues el nom del contacte: \")\n",
    "                if nom not in contactes.keys():\n",
    "                    print(\"El nom no esta en els contactes...\")\n",
    "            except ValueError:\n",
    "                print(\"El nom no es possible...\")\n",
    "        print(f\"Nom: {nom}, Telefon: {contactes.get(nom)}\")\n",
    "    elif num == 3:\n",
    "        for j in contactes.keys():\n",
    "            print(j)\n",
    "    elif num == 4:\n",
    "        print(\"Has sortit de l'agenda, programa Finalitzat...\")\n",
    "        break"
   ]
  }
 ],
 "metadata": {
  "kernelspec": {
   "display_name": "Python 3",
   "language": "python",
   "name": "python3"
  },
  "language_info": {
   "codemirror_mode": {
    "name": "ipython",
    "version": 3
   },
   "file_extension": ".py",
   "mimetype": "text/x-python",
   "name": "python",
   "nbconvert_exporter": "python",
   "pygments_lexer": "ipython3",
   "version": "3.12.6"
  }
 },
 "nbformat": 4,
 "nbformat_minor": 5
}
