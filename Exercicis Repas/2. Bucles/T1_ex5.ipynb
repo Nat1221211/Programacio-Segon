{
 "cells": [
  {
   "cell_type": "markdown",
   "id": "0b673b15",
   "metadata": {},
   "source": [
    "# Tasca 1\n",
    "##### Bernat Puig Casals\n",
    "##### 22/09/2025\n",
    "### Bucles"
   ]
  },
  {
   "cell_type": "markdown",
   "id": "305c7a71",
   "metadata": {},
   "source": [
    "##### Exercici 5 - Multiplicar mitjançant bucles\n",
    "###### Entrem dos valors necessaris per a una multiplicacio, i la realitzem amb un bucle i sumes."
   ]
  },
  {
   "cell_type": "code",
   "execution_count": 1,
   "id": "6828e51d",
   "metadata": {},
   "outputs": [
    {
     "name": "stdout",
     "output_type": "stream",
     "text": [
      "\n",
      " ! Multiplicacio Mitjançant Bucles ! \n",
      "\n",
      "El resultat de la multiplicació és -25\n"
     ]
    }
   ],
   "source": [
    "print(\"\\n ! Multiplicacio Mitjançant Bucles ! \\n\")\n",
    "for i in range(2):\n",
    "    correcte = False\n",
    "    while correcte == False:\n",
    "        try:\n",
    "            valor = int(input(\"Digues un numero: \"))\n",
    "            correcte = True\n",
    "        except ValueError:\n",
    "            correcte = False\n",
    "            print(\"S'ha introduit un numero no valid !\")\n",
    "    if i == 0:\n",
    "        val1 = valor\n",
    "    else:\n",
    "        val2 = valor\n",
    "resultat = 0\n",
    "\n",
    "if val2 < 0 and val1 < 0:\n",
    "    val1 = abs(val1)\n",
    "    val2 = abs(val2)\n",
    "elif val2 < 0:\n",
    "    aux = val2\n",
    "    val2 = val1\n",
    "    val1 = aux\n",
    "\n",
    "for j in range(0, val2):\n",
    "        resultat += val1\n",
    "\n",
    "print(f\"El resultat de la multiplicació és {resultat}\")"
   ]
  }
 ],
 "metadata": {
  "kernelspec": {
   "display_name": "Python 3",
   "language": "python",
   "name": "python3"
  },
  "language_info": {
   "codemirror_mode": {
    "name": "ipython",
    "version": 3
   },
   "file_extension": ".py",
   "mimetype": "text/x-python",
   "name": "python",
   "nbconvert_exporter": "python",
   "pygments_lexer": "ipython3",
   "version": "3.12.6"
  }
 },
 "nbformat": 4,
 "nbformat_minor": 5
}
