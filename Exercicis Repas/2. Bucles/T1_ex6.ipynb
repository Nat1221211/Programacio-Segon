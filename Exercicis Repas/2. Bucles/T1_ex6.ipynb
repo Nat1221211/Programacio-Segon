{
 "cells": [
  {
   "cell_type": "markdown",
   "id": "0b673b15",
   "metadata": {},
   "source": [
    "# Tasca 1\n",
    "##### Bernat Puig Casals\n",
    "##### 29/09/2025\n",
    "### Bucles"
   ]
  },
  {
   "cell_type": "markdown",
   "id": "305c7a71",
   "metadata": {},
   "source": [
    "##### Exercici 6 - Joc dels intents\n",
    "###### Generem un numero al atzar, entre 1 i 20, i tenim 5 intents per a encertar-lo."
   ]
  },
  {
   "cell_type": "code",
   "execution_count": 6,
   "id": "6828e51d",
   "metadata": {},
   "outputs": [
    {
     "name": "stdout",
     "output_type": "stream",
     "text": [
      "\n",
      " ! Joc dels intents ! \n",
      "\n",
      "EL valor generat sempre sera entre 1 i 20 incloent-los.\n",
      "El numero 1 no era el numero a encertar...\n",
      "El numero 1 no era el numero a encertar...\n",
      "El numero 1 no era el numero a encertar...\n",
      "El numero 1 no era el numero a encertar...\n",
      "El numero 1 no era el numero a encertar...\n",
      "S'ha fallat els 5 intents...\n"
     ]
    }
   ],
   "source": [
    "import random\n",
    "\n",
    "print(\"\\n ! Joc dels intents ! \\n\")\n",
    "print(\"EL valor generat sempre sera entre 1 i 20 incloent-los.\")\n",
    "\n",
    "encertar = random.randrange(1, 21)\n",
    "\n",
    "for i in range(5):\n",
    "    correcte = False\n",
    "    while correcte == False:\n",
    "        try:\n",
    "            valor = int(input(\"Digues un numero: \"))\n",
    "            correcte = True\n",
    "            if valor < 1 or valor > 20:\n",
    "                correcte = False\n",
    "        except ValueError:\n",
    "            correcte = False\n",
    "            print(\"S'ha introduit un numero no valid !\")\n",
    "    \n",
    "    if valor == encertar:\n",
    "        print(f\"S'ha encertat, el numero era {encertar}!!\")\n",
    "        break\n",
    "    else:\n",
    "        print(f\"El numero {valor} no era el numero a encertar...\")\n",
    "        if i == 4:\n",
    "            print(\"S'ha fallat els 5 intents...\")\n",
    "\n",
    "\n"
   ]
  }
 ],
 "metadata": {
  "kernelspec": {
   "display_name": "Python 3",
   "language": "python",
   "name": "python3"
  },
  "language_info": {
   "codemirror_mode": {
    "name": "ipython",
    "version": 3
   },
   "file_extension": ".py",
   "mimetype": "text/x-python",
   "name": "python",
   "nbconvert_exporter": "python",
   "pygments_lexer": "ipython3",
   "version": "3.12.6"
  }
 },
 "nbformat": 4,
 "nbformat_minor": 5
}
