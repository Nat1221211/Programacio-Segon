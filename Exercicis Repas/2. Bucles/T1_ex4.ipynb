{
 "cells": [
  {
   "cell_type": "markdown",
   "id": "0b673b15",
   "metadata": {},
   "source": [
    "# Tasca 1\n",
    "##### Bernat Puig Casals\n",
    "##### 22/09/2025\n",
    "### Bucles"
   ]
  },
  {
   "cell_type": "markdown",
   "id": "305c7a71",
   "metadata": {},
   "source": [
    "##### Exercici 4 - Suma Acumulada\n",
    "###### Entrem valors fins introduir un 0 i els retornem sumats."
   ]
  },
  {
   "cell_type": "code",
   "execution_count": null,
   "id": "6828e51d",
   "metadata": {},
   "outputs": [
    {
     "name": "stdout",
     "output_type": "stream",
     "text": [
      "\n",
      " ! Suma Acumulada ! \n",
      "\n",
      "S'ha introduit un numero no valid !\n",
      "El resultat de la suma dels numeros dits és 5050\n"
     ]
    }
   ],
   "source": [
    "print(\"\\n ! Suma Acumulada ! \\n\")\n",
    "valor = -1\n",
    "suma = 0\n",
    "while valor != 0:\n",
    "    try:\n",
    "        valor = int(input(\"Digues un numero: \"))\n",
    "        suma += valor\n",
    "    except ValueError:\n",
    "        print(\"S'ha introduit un numero no valid !\")\n",
    "\n",
    "print(f\"El resultat de la suma dels numeros dits és {suma}\")"
   ]
  }
 ],
 "metadata": {
  "kernelspec": {
   "display_name": "Python 3",
   "language": "python",
   "name": "python3"
  },
  "language_info": {
   "codemirror_mode": {
    "name": "ipython",
    "version": 3
   },
   "file_extension": ".py",
   "mimetype": "text/x-python",
   "name": "python",
   "nbconvert_exporter": "python",
   "pygments_lexer": "ipython3",
   "version": "3.12.6"
  }
 },
 "nbformat": 4,
 "nbformat_minor": 5
}
