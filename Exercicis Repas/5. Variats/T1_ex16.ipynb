{
 "cells": [
  {
   "cell_type": "markdown",
   "id": "0b673b15",
   "metadata": {},
   "source": [
    "# Tasca 1\n",
    "##### Bernat Puig Casals\n",
    "##### 07/10/2025\n",
    "### Variats"
   ]
  },
  {
   "cell_type": "markdown",
   "id": "305c7a71",
   "metadata": {},
   "source": [
    "##### Exercici 16 - Comptador de Vocals\n",
    "###### Donat un text ens mostra un diccionari amb quants cops ha aparegut cada vocal. "
   ]
  },
  {
   "cell_type": "code",
   "execution_count": 5,
   "id": "6828e51d",
   "metadata": {},
   "outputs": [
    {
     "name": "stdout",
     "output_type": "stream",
     "text": [
      "\n",
      " ! Comptar Vocals ! \n",
      "\n",
      "Text: \n",
      " Hola que tal, em dic Bernat, i tu? Per cert avui fa un molt bon dia, no? \n",
      "\n",
      "Vocals:  {'a': 6, 'e': 5, 'i': 4, 'o': 4, 'u': 4}\n"
     ]
    }
   ],
   "source": [
    "import os\n",
    "\n",
    "def comptarVocals(text):\n",
    "    diccio = {\"a\": 0, \"e\": 0, \"i\": 0, \"o\": 0, \"u\": 0}\n",
    "    textmini = text.lower()\n",
    "    for i in textmini:\n",
    "        if i in diccio:\n",
    "            for j in diccio.keys():\n",
    "                if i == j:\n",
    "                    diccio[j] += 1\n",
    "    return diccio\n",
    "    \n",
    "\n",
    "def main():\n",
    "    print(\"\\n ! Comptar Vocals ! \\n\")\n",
    "    \n",
    "    correcte = False\n",
    "    while correcte == False:\n",
    "        try:\n",
    "            text = input(\"Digues un text per a comptar: \")\n",
    "            correcte = True\n",
    "        except ValueError:\n",
    "            print(\"S'ha introduit un caracter impossible...\")\n",
    "            correcte = False\n",
    "    vocals = comptarVocals(text)\n",
    "    print(\"Text: \\n\", text, \"\\n\")\n",
    "    print(\"Vocals: \", vocals)\n",
    "\n",
    "if \"__main__\" == __name__:\n",
    "    main()"
   ]
  }
 ],
 "metadata": {
  "kernelspec": {
   "display_name": "Python 3",
   "language": "python",
   "name": "python3"
  },
  "language_info": {
   "codemirror_mode": {
    "name": "ipython",
    "version": 3
   },
   "file_extension": ".py",
   "mimetype": "text/x-python",
   "name": "python",
   "nbconvert_exporter": "python",
   "pygments_lexer": "ipython3",
   "version": "3.12.6"
  }
 },
 "nbformat": 4,
 "nbformat_minor": 5
}
