{
 "cells": [
  {
   "cell_type": "markdown",
   "id": "0b673b15",
   "metadata": {},
   "source": [
    "# Tasca 1\n",
    "##### Bernat Puig Casals\n",
    "##### 07/10/2025\n",
    "### Variats"
   ]
  },
  {
   "cell_type": "markdown",
   "id": "305c7a71",
   "metadata": {},
   "source": [
    "##### Exercici 15 - Triangular Nombres\n",
    "###### Donat un enter mostrar la piramide de numeros. "
   ]
  },
  {
   "cell_type": "code",
   "execution_count": 13,
   "id": "6828e51d",
   "metadata": {},
   "outputs": [
    {
     "name": "stdout",
     "output_type": "stream",
     "text": [
      "\n",
      " ! Triangular Numeros ! \n",
      "\n",
      "1 \n",
      "1 2 \n",
      "1 2 3 \n",
      "1 2 3 4 \n",
      "1 2 3 4 5 \n",
      "1 2 3 4 5 6 \n",
      "1 2 3 4 5 6 7 \n",
      "1 2 3 4 5 6 7 8 \n",
      "1 2 3 4 5 6 7 8 9 \n",
      "1 2 3 4 5 6 7 8 9 10 \n",
      "1 2 3 4 5 6 7 8 9 10 11 \n",
      "1 2 3 4 5 6 7 8 9 10 11 12 \n",
      "1 2 3 4 5 6 7 8 9 10 11 12 13 \n",
      "1 2 3 4 5 6 7 8 9 10 11 12 \n",
      "1 2 3 4 5 6 7 8 9 10 11 \n",
      "1 2 3 4 5 6 7 8 9 10 \n",
      "1 2 3 4 5 6 7 8 9 \n",
      "1 2 3 4 5 6 7 8 \n",
      "1 2 3 4 5 6 7 \n",
      "1 2 3 4 5 6 \n",
      "1 2 3 4 5 \n",
      "1 2 3 4 \n",
      "1 2 3 \n",
      "1 2 \n",
      "1 \n"
     ]
    }
   ],
   "source": [
    "import os\n",
    "\n",
    "def generarTriangulat(enter):\n",
    "    for j in range(1, enter + 1):\n",
    "        for i in range(1, j + 1):\n",
    "            print(i, end = \" \")\n",
    "            if i == j:\n",
    "                print(\"\")\n",
    "    for j in range(enter - \n",
    "                   1, 0, -1):\n",
    "        for i in range(1, j + 1):\n",
    "            print(i, end = \" \")\n",
    "            if i == j:\n",
    "                print(\"\")\n",
    "    \n",
    "\n",
    "def main():\n",
    "    print(\"\\n ! Triangular Numeros ! \\n\")\n",
    "    \n",
    "    num = -1\n",
    "    while num < 0:\n",
    "        try:\n",
    "            num = int(input(\"Digues un nombre enter per a generar la piramide: \"))\n",
    "        except ValueError:\n",
    "            print(\"S'ha introduit un caracter no numeric...\")\n",
    "    generarTriangulat(num)\n",
    "\n",
    "if \"__main__\" == __name__:\n",
    "    main()"
   ]
  }
 ],
 "metadata": {
  "kernelspec": {
   "display_name": "Python 3",
   "language": "python",
   "name": "python3"
  },
  "language_info": {
   "codemirror_mode": {
    "name": "ipython",
    "version": 3
   },
   "file_extension": ".py",
   "mimetype": "text/x-python",
   "name": "python",
   "nbconvert_exporter": "python",
   "pygments_lexer": "ipython3",
   "version": "3.12.6"
  }
 },
 "nbformat": 4,
 "nbformat_minor": 5
}
