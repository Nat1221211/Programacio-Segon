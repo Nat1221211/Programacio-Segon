{
 "cells": [
  {
   "cell_type": "markdown",
   "id": "0b673b15",
   "metadata": {},
   "source": [
    "# Tasca 1\n",
    "##### Bernat Puig Casals\n",
    "##### 29/09/2025\n",
    "### Variats"
   ]
  },
  {
   "cell_type": "markdown",
   "id": "305c7a71",
   "metadata": {},
   "source": [
    "##### Exercici 14 - Palindroms\n",
    "###### Creem un programa que retorni si una paraula es un palindrom o no, mitjançant funcions."
   ]
  },
  {
   "cell_type": "code",
   "execution_count": 19,
   "id": "6828e51d",
   "metadata": {},
   "outputs": [
    {
     "name": "stdout",
     "output_type": "stream",
     "text": [
      "\n",
      " ! Palindroms ! \n",
      "\n",
      "a a\n",
      "n n\n",
      "n n\n",
      "a a\n",
      "La paraula anna es un palindrom.\n"
     ]
    }
   ],
   "source": [
    "import os\n",
    "\n",
    "def palindrom(paraula):\n",
    "    pal = True\n",
    "    i = len(paraula) - 1\n",
    "    for j in paraula:\n",
    "        print(j, paraula[i])\n",
    "        if j != paraula[i]:\n",
    "            pal = False\n",
    "        i-= 1\n",
    "    return pal\n",
    "\n",
    "\n",
    "\n",
    "\n",
    "def main():\n",
    "    print(\"\\n ! Palindroms ! \\n\")\n",
    "    \n",
    "    paraula = \"\"\n",
    "    while paraula == \"\":\n",
    "        try:\n",
    "            paraula = input(\"Digues una paraula: \")\n",
    "        except ValueError:\n",
    "            print(\"El valor introduit no es possible...\")\n",
    "            paraula = \"\"\n",
    "    \n",
    "    palin = palindrom(paraula)\n",
    "    if palin == True:\n",
    "        print(f\"La paraula {paraula} es un palindrom.\")\n",
    "    else:\n",
    "        print(f\"La paraula {paraula} no es un palindrom.\")\n",
    "            \n",
    "\n",
    "if \"__main__\" == __name__:\n",
    "    main()"
   ]
  }
 ],
 "metadata": {
  "kernelspec": {
   "display_name": "Python 3",
   "language": "python",
   "name": "python3"
  },
  "language_info": {
   "codemirror_mode": {
    "name": "ipython",
    "version": 3
   },
   "file_extension": ".py",
   "mimetype": "text/x-python",
   "name": "python",
   "nbconvert_exporter": "python",
   "pygments_lexer": "ipython3",
   "version": "3.12.6"
  }
 },
 "nbformat": 4,
 "nbformat_minor": 5
}
