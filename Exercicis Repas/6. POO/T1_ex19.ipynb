{
 "cells": [
  {
   "cell_type": "markdown",
   "id": "0b673b15",
   "metadata": {},
   "source": [
    "# Tasca 1\n",
    "##### Bernat Puig Casals\n",
    "##### 14/10/2025\n",
    "### POO"
   ]
  },
  {
   "cell_type": "markdown",
   "id": "305c7a71",
   "metadata": {},
   "source": [
    "##### Exercici 19 - Cotxe\n",
    "###### Creem la classe Cotxe, creem l'objecte cotxe desde la classe corresponent i probem els atributs i metodes. "
   ]
  },
  {
   "cell_type": "code",
   "execution_count": 3,
   "id": "6828e51d",
   "metadata": {},
   "outputs": [
    {
     "name": "stdout",
     "output_type": "stream",
     "text": [
      "\n",
      " ! Cotxe ! \n",
      "\n",
      "1 - Accelerar\n",
      "2 - Frenar\n",
      "3 - Mostrar Estat del Cotxe\n",
      "4 - Sortir del Cotxe\n",
      "No tens un cotxe registrat, diguens la seguent informacio del teu cotxe.\n",
      "Velocitat: 15.0\n",
      "No pots sortir del cotxe si aquest esta en marxa.\n",
      "Velocitat: 5.0\n",
      "Velocitat: 0.0\n",
      "Has sortit del cotxe...\n"
     ]
    }
   ],
   "source": [
    "\n",
    "class Cotxe():\n",
    "    # Atributs\n",
    "    marca = \"\"\n",
    "    model = \"\"\n",
    "    velocitat = float(0)\n",
    "\n",
    "    # Metodes\n",
    "    def __init__(self, marca, model):\n",
    "        self.marca = marca\n",
    "        self.model = model\n",
    "\n",
    "    def Accelerar(self):\n",
    "        self.velocitat+= 5\n",
    "    \n",
    "    def Frenar(self):\n",
    "        self.velocitat-= 5\n",
    "    \n",
    "    def MostrarEstat(self):\n",
    "        print(f\"Velocitat: {self.velocitat}\")\n",
    "\n",
    "def GenerarCotxe():\n",
    "    marca = \"\"\n",
    "    while marca == \"\":\n",
    "        try:\n",
    "            marca = input(\"Digues la marca del cotxe: \")\n",
    "        except ValueError:\n",
    "            marca = \"\"\n",
    "\n",
    "    model = \"\"\n",
    "    while model == \"\":\n",
    "        try:\n",
    "            model = input(\"Digues el model del cotxe: \")\n",
    "        except ValueError:\n",
    "            model = \"\"\n",
    "    cotxe = Cotxe(marca, model)\n",
    "    return cotxe\n",
    "\n",
    "def main():\n",
    "    pos = 0\n",
    "    cotxe = None\n",
    "    print(\"\\n ! Cotxe ! \\n\")\n",
    "    print(\"1 - Accelerar\")\n",
    "    print(\"2 - Frenar\")\n",
    "    print(\"3 - Mostrar Estat del Cotxe\")\n",
    "    print(\"4 - Sortir del Cotxe\")\n",
    "    while pos != 4:\n",
    "        pos = 0\n",
    "        while pos not in [1, 2, 3, 4]:\n",
    "            if cotxe == None:\n",
    "                print(\"No tens un cotxe registrat, diguens la seguent informacio del teu cotxe.\")\n",
    "                cotxe = GenerarCotxe()\n",
    "            else:\n",
    "                try:\n",
    "                    pos = int(input(\"Que vols fer: \"))\n",
    "                except ValueError:\n",
    "                    print(\"Ha de dir un dels numeros per a la accio que fer...\")\n",
    "\n",
    "        if pos == 1:\n",
    "            cotxe.Accelerar()\n",
    "        elif pos == 2:\n",
    "            cotxe.Frenar()\n",
    "        elif pos == 3:\n",
    "            cotxe.MostrarEstat()\n",
    "        elif pos == 4:\n",
    "            if cotxe.velocitat > 0:\n",
    "                print(\"No pots sortir del cotxe si aquest esta en marxa.\")\n",
    "                pos = 0\n",
    "            else:\n",
    "                print(\"Has sortit del cotxe...\")\n",
    "    \n",
    "\n",
    "if \"__main__\" == __name__:\n",
    "    main()"
   ]
  }
 ],
 "metadata": {
  "kernelspec": {
   "display_name": "Python 3",
   "language": "python",
   "name": "python3"
  },
  "language_info": {
   "codemirror_mode": {
    "name": "ipython",
    "version": 3
   },
   "file_extension": ".py",
   "mimetype": "text/x-python",
   "name": "python",
   "nbconvert_exporter": "python",
   "pygments_lexer": "ipython3",
   "version": "3.12.6"
  }
 },
 "nbformat": 4,
 "nbformat_minor": 5
}
