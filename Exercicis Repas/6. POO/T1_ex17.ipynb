{
 "cells": [
  {
   "cell_type": "markdown",
   "id": "0b673b15",
   "metadata": {},
   "source": [
    "# Tasca 1\n",
    "##### Bernat Puig Casals\n",
    "##### 07/10/2025\n",
    "### POO"
   ]
  },
  {
   "cell_type": "markdown",
   "id": "305c7a71",
   "metadata": {},
   "source": [
    "##### Exercici 17 - Classe Alumne\n",
    "###### Creem la classe alumne, creem l'objecte alumne desde la classe alumne i probem els atributs i metode. "
   ]
  },
  {
   "cell_type": "code",
   "execution_count": 3,
   "id": "6828e51d",
   "metadata": {},
   "outputs": [
    {
     "name": "stdout",
     "output_type": "stream",
     "text": [
      "\n",
      " ! Classe Alumne ! \n",
      "\n",
      "Nom: Bernat\n",
      "Edat: 19\n",
      "Nota: 8.65\n",
      "L'alumne Bernat, ha aprobat.\n"
     ]
    }
   ],
   "source": [
    "import os\n",
    "\n",
    "class Alumne():\n",
    "    \n",
    "    nom = \"\"\n",
    "    edat = int()\n",
    "    nota = float()\n",
    "\n",
    "    # Metodes\n",
    "    def __init__(self, nom, edat, nota):\n",
    "        self.nom = nom\n",
    "        self.edat = edat\n",
    "        self.nota = nota\n",
    "    \n",
    "    def calcularAprobat(self):\n",
    "        if self.nota >= 5:\n",
    "            return True\n",
    "        else:\n",
    "            return False\n",
    "\n",
    "def generarAlumne():\n",
    "    correcte = False\n",
    "    while correcte == False:\n",
    "        try:\n",
    "            nom = input(\"Digues un nom per a l'Alumne: \")\n",
    "            if nom != \"\":\n",
    "                correcte = True\n",
    "        except ValueError:\n",
    "            print(\"S'ha introduit un caracter impossible...\")\n",
    "            correcte = False\n",
    "    edat = -1\n",
    "    while edat < 0:\n",
    "        try:\n",
    "            edat = int(input(\"Digues la edat de l'alumne: \"))\n",
    "        except ValueError:\n",
    "            print(\"S'ha introduit un caracter no numeric...\")\n",
    "    nota = float(-1)\n",
    "    while nota < 0:\n",
    "        try:\n",
    "            nota = float(input(\"Digues la nota de l'alumne: \"))\n",
    "        except ValueError:\n",
    "            print(\"S'ha introduit un caracter no numeric...\")\n",
    "\n",
    "    alumne = Alumne(nom, edat, nota)\n",
    "    return alumne\n",
    "\n",
    "def main():\n",
    "    print(\"\\n ! Classe Alumne ! \\n\")\n",
    "    alumne1 = generarAlumne()\n",
    "\n",
    "    print(f\"Nom: {alumne1.nom}\")\n",
    "    print(f\"Edat: {alumne1.edat}\")\n",
    "    print(f\"Nota: {alumne1.nota}\")\n",
    "    if alumne1.calcularAprobat() == True:\n",
    "        print(f\"L'alumne {alumne1.nom}, ha aprobat.\")\n",
    "    else:\n",
    "        print(f\"L'alumne {alumne1.nom}, no ha aprobat.\")\n",
    "\n",
    "if \"__main__\" == __name__:\n",
    "    main()"
   ]
  }
 ],
 "metadata": {
  "kernelspec": {
   "display_name": "Python 3",
   "language": "python",
   "name": "python3"
  },
  "language_info": {
   "codemirror_mode": {
    "name": "ipython",
    "version": 3
   },
   "file_extension": ".py",
   "mimetype": "text/x-python",
   "name": "python",
   "nbconvert_exporter": "python",
   "pygments_lexer": "ipython3",
   "version": "3.12.6"
  }
 },
 "nbformat": 4,
 "nbformat_minor": 5
}
