{
 "cells": [
  {
   "cell_type": "markdown",
   "id": "0b673b15",
   "metadata": {},
   "source": [
    "# Tasca 1\n",
    "##### Bernat Puig Casals\n",
    "##### 29/09/2025\n",
    "### Funcions i Moduls"
   ]
  },
  {
   "cell_type": "markdown",
   "id": "305c7a71",
   "metadata": {},
   "source": [
    "##### Exercici 12 - Nombre Primer\n",
    "###### Creem un una funcion que retorni si un numero es primer o no."
   ]
  },
  {
   "cell_type": "code",
   "execution_count": 20,
   "id": "6828e51d",
   "metadata": {},
   "outputs": [
    {
     "name": "stdout",
     "output_type": "stream",
     "text": [
      "\n",
      " ! Nombre Primer ! \n",
      "\n",
      "El numero 7 és un numero primer !!\n"
     ]
    }
   ],
   "source": [
    "import os\n",
    "\n",
    "def CalPrimer(num):\n",
    "    Primer = True\n",
    "    for i in range(2, num):\n",
    "        if num % i == 0:\n",
    "            Primer = False\n",
    "            break\n",
    "    return Primer\n",
    "\n",
    "def main():\n",
    "    print(\"\\n ! Nombre Primer ! \\n\")\n",
    "\n",
    "    num = 0\n",
    "    while num < 1:\n",
    "        try:\n",
    "            num = int(input(\"Digues un numero: \"))\n",
    "            if num < 1:\n",
    "                print(\"El valor ha de ser 1 o superior.\")\n",
    "        except ValueError:\n",
    "            print(\"El valor introduit no es numeric...\")\n",
    "\n",
    "    primer = CalPrimer(num)\n",
    "    if primer == True:\n",
    "        print(f\"El numero {num} és un numero primer !!\")\n",
    "    else:\n",
    "        print(f\"El numero {num} no és un numero primer.\")\n",
    "        \n",
    "\n",
    "if \"__main__\" == __name__:\n",
    "    main()"
   ]
  }
 ],
 "metadata": {
  "kernelspec": {
   "display_name": "Python 3",
   "language": "python",
   "name": "python3"
  },
  "language_info": {
   "codemirror_mode": {
    "name": "ipython",
    "version": 3
   },
   "file_extension": ".py",
   "mimetype": "text/x-python",
   "name": "python",
   "nbconvert_exporter": "python",
   "pygments_lexer": "ipython3",
   "version": "3.12.6"
  }
 },
 "nbformat": 4,
 "nbformat_minor": 5
}
