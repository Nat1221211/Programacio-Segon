{
 "cells": [
  {
   "cell_type": "markdown",
   "id": "0b673b15",
   "metadata": {},
   "source": [
    "# Tasca 1\n",
    "##### Bernat Puig Casals\n",
    "##### 29/09/2025\n",
    "### Funcions i Moduls"
   ]
  },
  {
   "cell_type": "markdown",
   "id": "305c7a71",
   "metadata": {},
   "source": [
    "##### Exercici 11 - Conversor de monedes\n",
    "###### Creem un dues funcions una per passar dolars a euros i una que faci l'inreves."
   ]
  },
  {
   "cell_type": "code",
   "execution_count": null,
   "id": "6828e51d",
   "metadata": {},
   "outputs": [
    {
     "name": "stdout",
     "output_type": "stream",
     "text": [
      "\n",
      " ! Conversor de monedes ! \n",
      "\n",
      "Menu\n",
      "1 -> Dolars a Euros\n",
      "2 -> Euros a Dolars\n",
      "3 -> Sortir de l'agenda de contactes\n",
      "5.0 €, són 5.85 $\n",
      "100.0 $, són 85.0 €\n",
      "Has sortit de l'agenda, programa Finalitzat...\n"
     ]
    }
   ],
   "source": [
    "import os\n",
    "\n",
    "def EuraDoll():\n",
    "    eurs = 0\n",
    "    while eurs < 0.01:\n",
    "        try:\n",
    "            eurs = float(input(\"Digues quants euros vols passar a dolars: \"))\n",
    "        except ValueError:\n",
    "            print(\"Valor no numeric...\")\n",
    "            os.system(\"cls\")\n",
    "    usd = eurs * 1.17\n",
    "    return usd, eurs\n",
    "\n",
    "def DollaEur():\n",
    "    usd = 0\n",
    "    while usd < 0.01:\n",
    "        try:\n",
    "            usd = float(input(\"Digues quants dolars vols passar a euros: \"))\n",
    "        except ValueError:\n",
    "            print(\"Valor no numeric...\")\n",
    "            os.system(\"cls\")\n",
    "    eurs = usd * 0.85\n",
    "    return eurs, usd\n",
    "\n",
    "\n",
    "def main():\n",
    "\n",
    "    print(\"\\n ! Conversor de monedes ! \\n\")\n",
    "\n",
    "    print(\"Menu\")\n",
    "    print(\"1 -> Dolars a Euros\")\n",
    "    print(\"2 -> Euros a Dolars\")\n",
    "    print(\"3 -> Sortir de l'agenda de contactes\")\n",
    "\n",
    "\n",
    "    num = 1\n",
    "    while num in [1, 2, 3]:\n",
    "        num = 0\n",
    "        while num not in [1, 2, 3]:\n",
    "            os.system(\"cls\")\n",
    "            try:\n",
    "                num = int(input(\"Digues que vols fer, selecciona el numero corresponent: \"))\n",
    "            except ValueError:\n",
    "                print(\"El caracter introduit no es un numero.\")\n",
    "        \n",
    "        if num == 1:\n",
    "            dolars, euros = EuraDoll()\n",
    "            print(f\"{euros} €, són {dolars} $\")\n",
    "        elif num == 2:\n",
    "            euros, dolars = DollaEur()\n",
    "            print(f\"{dolars} $, són {euros} €\")\n",
    "        elif num == 3:\n",
    "            print(\"Has sortit de l'agenda, programa Finalitzat...\")\n",
    "            break\n",
    "        \n",
    "\n",
    "if \"__main__\" == __name__:\n",
    "    main()"
   ]
  }
 ],
 "metadata": {
  "kernelspec": {
   "display_name": "Python 3",
   "language": "python",
   "name": "python3"
  },
  "language_info": {
   "codemirror_mode": {
    "name": "ipython",
    "version": 3
   },
   "file_extension": ".py",
   "mimetype": "text/x-python",
   "name": "python",
   "nbconvert_exporter": "python",
   "pygments_lexer": "ipython3",
   "version": "3.12.6"
  }
 },
 "nbformat": 4,
 "nbformat_minor": 5
}
