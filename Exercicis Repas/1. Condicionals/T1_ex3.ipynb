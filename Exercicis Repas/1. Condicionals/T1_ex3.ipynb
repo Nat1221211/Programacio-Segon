{
 "cells": [
  {
   "cell_type": "markdown",
   "id": "0b673b15",
   "metadata": {},
   "source": [
    "# Tasca 1\n",
    "##### Bernat Puig Casals\n",
    "##### 22/09/2025\n",
    "### Condicionals"
   ]
  },
  {
   "cell_type": "markdown",
   "id": "305c7a71",
   "metadata": {},
   "source": [
    "##### Exercici 3 - Any de Traspas\n",
    "###### Entrem un valor i ens retorna si es un any de traspas o no."
   ]
  },
  {
   "cell_type": "code",
   "execution_count": 4,
   "id": "6828e51d",
   "metadata": {},
   "outputs": [
    {
     "name": "stdout",
     "output_type": "stream",
     "text": [
      "\n",
      " ! Any de Traspas ! \n",
      "\n",
      "L'any 2001 no és un any de traspas\n"
     ]
    }
   ],
   "source": [
    "print(\"\\n ! Any de Traspas ! \\n\")\n",
    "correcte = False\n",
    "while correcte == False:\n",
    "    try:\n",
    "        valor = int(input(\"Digues un any: \"))\n",
    "        correcte = True\n",
    "        if valor < 0:\n",
    "            print(\"S'ha introduit un any no valid !\")\n",
    "    except ValueError:\n",
    "        correcte = False\n",
    "        print(\"S'ha introduit un any no valid !\")\n",
    "\n",
    "if valor % 400 == 0:\n",
    "    print(f\"L'any {valor} és un any de traspas\")\n",
    "elif valor % 100 == 0:\n",
    "    print(f\"L'any {valor} no és un any de traspas\")\n",
    "elif valor % 4 == 0:\n",
    "    print(f\"L'any {valor} és un any de traspas\")\n",
    "else:\n",
    "    print(f\"L'any {valor} no és un any de traspas\")"
   ]
  }
 ],
 "metadata": {
  "kernelspec": {
   "display_name": "Python 3",
   "language": "python",
   "name": "python3"
  },
  "language_info": {
   "codemirror_mode": {
    "name": "ipython",
    "version": 3
   },
   "file_extension": ".py",
   "mimetype": "text/x-python",
   "name": "python",
   "nbconvert_exporter": "python",
   "pygments_lexer": "ipython3",
   "version": "3.12.6"
  }
 },
 "nbformat": 4,
 "nbformat_minor": 5
}
