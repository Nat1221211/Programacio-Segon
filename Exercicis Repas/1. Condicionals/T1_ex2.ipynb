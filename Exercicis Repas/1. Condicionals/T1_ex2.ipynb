{
 "cells": [
  {
   "cell_type": "markdown",
   "id": "0b673b15",
   "metadata": {},
   "source": [
    "# Tasca 1\n",
    "##### Bernat Puig Casals\n",
    "##### 22/09/2025\n",
    "### Condicionals"
   ]
  },
  {
   "cell_type": "markdown",
   "id": "305c7a71",
   "metadata": {},
   "source": [
    "##### Exercici 2 - Classificació d'edats\n",
    "###### Entrem un valors i ens retorna una de quatre paraules segons l'epoca d'edat en que esta."
   ]
  },
  {
   "cell_type": "code",
   "execution_count": 1,
   "id": "6828e51d",
   "metadata": {},
   "outputs": [
    {
     "name": "stdout",
     "output_type": "stream",
     "text": [
      "\n",
      " ! Classificació d'edats ! \n",
      "\n",
      "Amb 10 anys ets un nen\n"
     ]
    }
   ],
   "source": [
    "print(\"\\n ! Classificació d'edats ! \\n\")\n",
    "correcte = False\n",
    "while correcte == False:\n",
    "    try:\n",
    "        valor = int(input(\"Digues la edat: \"))\n",
    "        correcte = True\n",
    "        if valor < 0 or valor > 120:\n",
    "            print(\"S'ha introduit una edat no valida !\")\n",
    "    except ValueError:\n",
    "        correcte = False\n",
    "        print(\"S'ha introduit una edat no valida !\")\n",
    "\n",
    "if valor < 13:\n",
    "    print(f\"Amb {valor} anys ets un nen\")\n",
    "elif valor >= 13 and valor < 18:\n",
    "    print(f\"Amb {valor} anys ets un adolescent\")\n",
    "elif valor >= 18 and valor < 65:\n",
    "    print(f\"Amb {valor} anys ets un adult\")\n",
    "else:\n",
    "    print(f\"Amb {valor} anys ets un jubilat\")\n"
   ]
  }
 ],
 "metadata": {
  "kernelspec": {
   "display_name": "Python 3",
   "language": "python",
   "name": "python3"
  },
  "language_info": {
   "codemirror_mode": {
    "name": "ipython",
    "version": 3
   },
   "file_extension": ".py",
   "mimetype": "text/x-python",
   "name": "python",
   "nbconvert_exporter": "python",
   "pygments_lexer": "ipython3",
   "version": "3.12.6"
  }
 },
 "nbformat": 4,
 "nbformat_minor": 5
}
