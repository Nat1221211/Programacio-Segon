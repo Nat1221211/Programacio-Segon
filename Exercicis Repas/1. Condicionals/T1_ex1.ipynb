{
 "cells": [
  {
   "cell_type": "markdown",
   "id": "0b673b15",
   "metadata": {},
   "source": [
    "# Tasca 1\n",
    "##### Bernat Puig Casals\n",
    "##### 22/09/2025\n",
    "### Condicionals\n",
    "##### Exercici 1 - Comparador de Numeros\n",
    "###### Entrem dos valors i ens retorna quin es més gran o si son iguals"
   ]
  },
  {
   "cell_type": "code",
   "execution_count": 2,
   "id": "d96344a5",
   "metadata": {},
   "outputs": [
    {
     "name": "stdout",
     "output_type": "stream",
     "text": [
      "\n",
      " ! Comparador de Valors ! \n",
      "\n",
      "El numero més gran és 12\n"
     ]
    }
   ],
   "source": [
    "print(\"\\n ! Comparador de Valors ! \\n\")\n",
    "correcte = False\n",
    "val1, val2 = 0, 0\n",
    "for i in range(2):\n",
    "    correcte = False\n",
    "    while correcte == False:\n",
    "        try:\n",
    "            valor = int(input(\"Digues un numero: \"))\n",
    "            correcte = True\n",
    "        except ValueError:\n",
    "            correcte = False\n",
    "            print(\"S'ha introduit un caracter no numeric !\")\n",
    "    if i == 0:\n",
    "        val1 = valor\n",
    "    else:\n",
    "        val2 = valor\n",
    "\n",
    "if val1 > val2:\n",
    "    print(f\"El numero més gran és {val1}\")\n",
    "elif val2 > val1:\n",
    "    print(f\"El numero més gran és {val2}\")\n",
    "else:\n",
    "    print(f\"Ambdos valors són iguals {val1} i {val2}\")\n"
   ]
  }
 ],
 "metadata": {
  "kernelspec": {
   "display_name": "Python 3",
   "language": "python",
   "name": "python3"
  },
  "language_info": {
   "codemirror_mode": {
    "name": "ipython",
    "version": 3
   },
   "file_extension": ".py",
   "mimetype": "text/x-python",
   "name": "python",
   "nbconvert_exporter": "python",
   "pygments_lexer": "ipython3",
   "version": "3.12.6"
  }
 },
 "nbformat": 4,
 "nbformat_minor": 5
}
